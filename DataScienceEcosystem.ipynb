{
 "cells": [
  {
   "cell_type": "markdown",
   "id": "dc8d9324-b306-479e-ad7e-cb06347435ca",
   "metadata": {},
   "source": [
    "# Data Science Tools and Ecosystem"
   ]
  },
  {
   "cell_type": "markdown",
   "id": "e6cf3a85-8b57-43a0-ac00-48c3ca3eb842",
   "metadata": {},
   "source": [
    "In this notebook, Data Science Tools and Ecosystem are summarized."
   ]
  },
  {
   "cell_type": "markdown",
   "id": "1166125a-433b-426d-98de-65caa8f2ce40",
   "metadata": {},
   "source": [
    "### Objetives"
   ]
  },
  {
   "cell_type": "markdown",
   "id": "e86f4023-e3ac-488b-838e-bf431a51d3fe",
   "metadata": {},
   "source": [
    "- Entender los lenguajes populares en ciencia de datos.\n",
    "- Aprender sobre bibliotecas comunes en ciencia de datos.\n",
    "- Conocer herramientas clave de ciencia de datos."
   ]
  },
  {
   "cell_type": "markdown",
   "id": "99640be8-e197-43ea-a5cd-0156a2308a6b",
   "metadata": {},
   "source": [
    "Some of the popular languages that Data Scientists use are:"
   ]
  },
  {
   "cell_type": "markdown",
   "id": "de208138-1e87-4ae4-a623-1857ef69cff3",
   "metadata": {},
   "source": [
    "1. Python\n",
    "2. R\n",
    "3. SQL"
   ]
  },
  {
   "cell_type": "markdown",
   "id": "6576758e-e3ec-4d5e-af97-62050d769a4a",
   "metadata": {},
   "source": [
    "Some of the commonly used libraries used by Data Scientists include:"
   ]
  },
  {
   "cell_type": "markdown",
   "id": "08803949-1811-455e-8028-9eb035ad9900",
   "metadata": {},
   "source": [
    "1. Pandas\n",
    "2. NumPy\n",
    "3. Matplotlib"
   ]
  },
  {
   "cell_type": "markdown",
   "id": "18069d46-aefd-4e4a-bb79-71d04fcdc068",
   "metadata": {},
   "source": [
    "| Data Science Tools |\n",
    "|--------------------|\n",
    "| Jupyter Notebook   |\n",
    "| RStudio            |\n",
    "| Apache Zeppelin    |"
   ]
  },
  {
   "cell_type": "markdown",
   "id": "8a715270-f1bb-499c-b851-354b9a346db2",
   "metadata": {},
   "source": [
    "### Below are a few examples of evaluating arithmetic expressions in Python"
   ]
  },
  {
   "cell_type": "markdown",
   "id": "1b3191ef-f94f-402e-b5a4-73c1f226258b",
   "metadata": {},
   "source": [
    "- Suma: 3+5=8\n",
    "- Resta: 10-2=8\n",
    "- Multiplicación: 4 /times 2 = 8"
   ]
  },
  {
   "cell_type": "code",
   "execution_count": 15,
   "id": "1944f563-c015-4b64-95ce-adef45f9ae12",
   "metadata": {},
   "outputs": [],
   "source": [
    "# This a simple arithmetic expression to mutiply then add integers"
   ]
  },
  {
   "cell_type": "code",
   "execution_count": 14,
   "id": "0ea96341-d814-481c-b658-ca165897841f",
   "metadata": {},
   "outputs": [
    {
     "data": {
      "text/plain": [
       "17"
      ]
     },
     "execution_count": 14,
     "metadata": {},
     "output_type": "execute_result"
    }
   ],
   "source": [
    "(3*4)+5"
   ]
  },
  {
   "cell_type": "code",
   "execution_count": 16,
   "id": "e6b37a31-b15d-45f9-b62b-b718e58896a7",
   "metadata": {},
   "outputs": [],
   "source": [
    "# This will convert 200 minutes to hours by diving by 60"
   ]
  },
  {
   "cell_type": "code",
   "execution_count": 17,
   "id": "924a51b5-8253-401f-9b79-9a13cf37bf1a",
   "metadata": {},
   "outputs": [
    {
     "data": {
      "text/plain": [
       "3.3333333333333335"
      ]
     },
     "execution_count": 17,
     "metadata": {},
     "output_type": "execute_result"
    }
   ],
   "source": [
    "200/60"
   ]
  },
  {
   "cell_type": "markdown",
   "id": "b265a721-3dbe-48b5-9c22-f6197e8b1f0a",
   "metadata": {},
   "source": [
    "## Author"
   ]
  },
  {
   "cell_type": "markdown",
   "id": "4c16dcec-4a86-466b-ad32-a417e901a69c",
   "metadata": {},
   "source": [
    "Javier Martín"
   ]
  },
  {
   "cell_type": "code",
   "execution_count": null,
   "id": "f8460b5f-fc5d-4c9c-b5ab-6fd530d5348d",
   "metadata": {},
   "outputs": [],
   "source": []
  }
 ],
 "metadata": {
  "kernelspec": {
   "display_name": "Python 3 (ipykernel)",
   "language": "python",
   "name": "python3"
  },
  "language_info": {
   "codemirror_mode": {
    "name": "ipython",
    "version": 3
   },
   "file_extension": ".py",
   "mimetype": "text/x-python",
   "name": "python",
   "nbconvert_exporter": "python",
   "pygments_lexer": "ipython3",
   "version": "3.12.3"
  }
 },
 "nbformat": 4,
 "nbformat_minor": 5
}
